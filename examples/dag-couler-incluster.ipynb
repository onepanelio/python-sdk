{
 "cells": [
  {
   "cell_type": "code",
   "execution_count": 1,
   "metadata": {},
   "outputs": [],
   "source": [
    "from __future__ import print_function\n",
    "import couler.argo as couler\n",
    "from onepanel.couler.submitter import Submitter"
   ]
  },
  {
   "cell_type": "code",
   "execution_count": 2,
   "metadata": {},
   "outputs": [],
   "source": [
    "def job_a(message):\n",
    "    couler.run_container(\n",
    "        image=\"docker/whalesay:latest\",\n",
    "        command=[\"cowsay\"],\n",
    "        args=[message],\n",
    "        step_name=\"A\",\n",
    "    )\n",
    "\n",
    "\n",
    "def job_b(message):\n",
    "    couler.run_container(\n",
    "        image=\"docker/whalesay:latest\",\n",
    "        command=[\"cowsay\"],\n",
    "        args=[message],\n",
    "        step_name=\"B\",\n",
    "    )\n",
    "\n",
    "\n",
    "def job_c(message):\n",
    "    couler.run_container(\n",
    "        image=\"docker/whalesay:latest\",\n",
    "        command=[\"cowsay\"],\n",
    "        args=[message],\n",
    "        step_name=\"C\",\n",
    "    )\n",
    "\n",
    "\n",
    "def job_d(message):\n",
    "    couler.run_container(\n",
    "        image=\"docker/whalesay:latest\",\n",
    "        command=[\"cowsay\"],\n",
    "        args=[message],\n",
    "        step_name=\"D\",\n",
    "    )\n",
    "\n",
    "#     A\n",
    "#    / \\\n",
    "#   B   C\n",
    "#  /\n",
    "# D\n",
    "def linear():\n",
    "    couler.set_dependencies(lambda: job_a(message=\"A\"), dependencies=None)\n",
    "    couler.set_dependencies(lambda: job_b(message=\"B\"), dependencies=[\"A\"])\n",
    "    couler.set_dependencies(lambda: job_c(message=\"C\"), dependencies=[\"A\"])\n",
    "    couler.set_dependencies(lambda: job_d(message=\"D\"), dependencies=[\"B\"])\n",
    "\n",
    "\n",
    "#   A\n",
    "#  / \\\n",
    "# B   C\n",
    "#  \\ /\n",
    "#   D\n",
    "def diamond():\n",
    "    couler.dag(\n",
    "        [\n",
    "            [lambda: job_a(message=\"A\")],\n",
    "            [lambda: job_a(message=\"A\"), lambda: job_b(message=\"B\")],  # A -> B\n",
    "            [lambda: job_a(message=\"A\"), lambda: job_c(message=\"C\")],  # A -> C\n",
    "            [lambda: job_b(message=\"B\"), lambda: job_d(message=\"D\")],  # B -> D\n",
    "            [lambda: job_b(message=\"C\"), lambda: job_d(message=\"D\")],  # C -> D\n",
    "        ]\n",
    "    )"
   ]
  },
  {
   "cell_type": "code",
   "execution_count": 3,
   "metadata": {},
   "outputs": [],
   "source": [
    "workflow_name = 'couler'"
   ]
  },
  {
   "cell_type": "code",
   "execution_count": 4,
   "metadata": {},
   "outputs": [
    {
     "name": "stderr",
     "output_type": "stream",
     "text": [
      "INFO:root:Onepanel configuration detected\n",
      "INFO:root:Initialized\n"
     ]
    }
   ],
   "source": [
    "argosubmitter = Submitter(workflow_name)"
   ]
  },
  {
   "cell_type": "code",
   "execution_count": 5,
   "metadata": {},
   "outputs": [
    {
     "name": "stderr",
     "output_type": "stream",
     "text": [
      "INFO:root:Workflow Executed\n"
     ]
    }
   ],
   "source": [
    "linear()\n",
    "couler.run(argosubmitter)"
   ]
  },
  {
   "cell_type": "code",
   "execution_count": null,
   "metadata": {},
   "outputs": [],
   "source": []
  }
 ],
 "metadata": {
  "kernelspec": {
   "display_name": "Python 3",
   "language": "python",
   "name": "python3"
  },
  "language_info": {
   "codemirror_mode": {
    "name": "ipython",
    "version": 3
   },
   "file_extension": ".py",
   "mimetype": "text/x-python",
   "name": "python",
   "nbconvert_exporter": "python",
   "pygments_lexer": "ipython3",
   "version": "3.6.11"
  }
 },
 "nbformat": 4,
 "nbformat_minor": 4
}
